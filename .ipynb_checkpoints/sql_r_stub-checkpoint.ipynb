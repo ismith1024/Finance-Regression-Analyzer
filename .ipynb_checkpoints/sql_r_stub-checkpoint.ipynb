{
 "cells": [
  {
   "cell_type": "code",
   "execution_count": 3,
   "metadata": {},
   "outputs": [
    {
     "ename": "ERROR",
     "evalue": "Error in (function (classes, fdef, mtable) : unable to find an inherited method for function ‘dbConnect’ for signature ‘\"character\"’\n",
     "output_type": "error",
     "traceback": [
      "Error in (function (classes, fdef, mtable) : unable to find an inherited method for function ‘dbConnect’ for signature ‘\"character\"’\nTraceback:\n",
      "1. dbConnect(drv = \"SQLite\", dbname = \"/home/ian/Data/yahoo.db\")",
      "2. (function (classes, fdef, mtable) \n . {\n .     methods <- .findInheritedMethods(classes, fdef, mtable)\n .     if (length(methods) == 1L) \n .         return(methods[[1L]])\n .     else if (length(methods) == 0L) {\n .         cnames <- paste0(\"\\\"\", vapply(classes, as.character, \n .             \"\"), \"\\\"\", collapse = \", \")\n .         stop(gettextf(\"unable to find an inherited method for function %s for signature %s\", \n .             sQuote(fdef@generic), sQuote(cnames)), domain = NA)\n .     }\n .     else stop(\"Internal error in finding inherited methods; didn't return a unique method\", \n .         domain = NA)\n . })(list(\"character\"), structure(function (drv, ...) \n . {\n .     ans <- standardGeneric(\"dbConnect\")\n .     .valueClassTest(ans, \"DBIConnection\", \"dbConnect\")\n . }, generic = structure(\"dbConnect\", package = \"DBI\"), package = \"DBI\", group = list(), valueClass = \"DBIConnection\", signature = \"drv\", default = `\\001NULL\\001`, skeleton = (function (drv, \n .     ...) \n . stop(\"invalid call in method dispatch to 'dbConnect' (no default method)\", \n .     domain = NA))(drv, ...), class = structure(\"standardGeneric\", package = \"methods\")), \n .     <environment>)",
      "3. stop(gettextf(\"unable to find an inherited method for function %s for signature %s\", \n .     sQuote(fdef@generic), sQuote(cnames)), domain = NA)"
     ]
    }
   ],
   "source": [
    "library(\"RSQLite\")\n",
    "\n",
    "# connect to the sqlite file\n",
    "conn = dbConnect(drv=\"SQLite\", dbname=\"/home/ian/Data/yahoo.db\")\n",
    "\n",
    "\n"
   ]
  },
  {
   "cell_type": "code",
   "execution_count": null,
   "metadata": {},
   "outputs": [],
   "source": []
  }
 ],
 "metadata": {
  "kernelspec": {
   "display_name": "R",
   "language": "R",
   "name": "ir"
  },
  "language_info": {
   "codemirror_mode": "r",
   "file_extension": ".r",
   "mimetype": "text/x-r-source",
   "name": "R",
   "pygments_lexer": "r",
   "version": "3.2.3"
  }
 },
 "nbformat": 4,
 "nbformat_minor": 2
}
